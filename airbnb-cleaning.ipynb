{
 "cells": [
  {
   "cell_type": "code",
   "execution_count": 27,
   "id": "e6c00185-1af6-41ae-92c1-3d31ad624257",
   "metadata": {},
   "outputs": [],
   "source": [
    "import pandas as pd"
   ]
  },
  {
   "cell_type": "code",
   "execution_count": 29,
   "id": "9fe4bc28-d917-4c21-9f24-5eec69d1acd9",
   "metadata": {},
   "outputs": [],
   "source": [
    "# Load listings and reviews CSVs\n",
    "listings = pd.read_csv(\"listings.csv\")\n",
    "reviews = pd.read_csv(\"reviews.csv\")"
   ]
  },
  {
   "cell_type": "code",
   "execution_count": 30,
   "id": "1c8eefaf-6024-4f38-a228-626eb5b597c6",
   "metadata": {},
   "outputs": [
    {
     "name": "stdout",
     "output_type": "stream",
     "text": [
      "Listings columns: ['id', 'listing_url', 'scrape_id', 'last_scraped', 'source', 'name', 'description', 'neighborhood_overview', 'picture_url', 'host_id', 'host_url', 'host_name', 'host_since', 'host_location', 'host_about', 'host_response_time', 'host_response_rate', 'host_acceptance_rate', 'host_is_superhost', 'host_thumbnail_url', 'host_picture_url', 'host_neighbourhood', 'host_listings_count', 'host_total_listings_count', 'host_verifications', 'host_has_profile_pic', 'host_identity_verified', 'neighbourhood', 'neighbourhood_cleansed', 'neighbourhood_group_cleansed', 'latitude', 'longitude', 'property_type', 'room_type', 'accommodates', 'bathrooms', 'bathrooms_text', 'bedrooms', 'beds', 'amenities', 'price', 'minimum_nights', 'maximum_nights', 'minimum_minimum_nights', 'maximum_minimum_nights', 'minimum_maximum_nights', 'maximum_maximum_nights', 'minimum_nights_avg_ntm', 'maximum_nights_avg_ntm', 'calendar_updated', 'has_availability', 'availability_30', 'availability_60', 'availability_90', 'availability_365', 'calendar_last_scraped', 'number_of_reviews', 'number_of_reviews_ltm', 'number_of_reviews_l30d', 'availability_eoy', 'number_of_reviews_ly', 'estimated_occupancy_l365d', 'estimated_revenue_l365d', 'first_review', 'last_review', 'review_scores_rating', 'review_scores_accuracy', 'review_scores_cleanliness', 'review_scores_checkin', 'review_scores_communication', 'review_scores_location', 'review_scores_value', 'license', 'instant_bookable', 'calculated_host_listings_count', 'calculated_host_listings_count_entire_homes', 'calculated_host_listings_count_private_rooms', 'calculated_host_listings_count_shared_rooms', 'reviews_per_month']\n",
      "Reviews columns: ['listing_id', 'id', 'date', 'reviewer_id', 'reviewer_name', 'comments']\n"
     ]
    },
    {
     "data": {
      "text/html": [
       "<div>\n",
       "<style scoped>\n",
       "    .dataframe tbody tr th:only-of-type {\n",
       "        vertical-align: middle;\n",
       "    }\n",
       "\n",
       "    .dataframe tbody tr th {\n",
       "        vertical-align: top;\n",
       "    }\n",
       "\n",
       "    .dataframe thead th {\n",
       "        text-align: right;\n",
       "    }\n",
       "</style>\n",
       "<table border=\"1\" class=\"dataframe\">\n",
       "  <thead>\n",
       "    <tr style=\"text-align: right;\">\n",
       "      <th></th>\n",
       "      <th>listing_id</th>\n",
       "      <th>id</th>\n",
       "      <th>date</th>\n",
       "      <th>reviewer_id</th>\n",
       "      <th>reviewer_name</th>\n",
       "      <th>comments</th>\n",
       "    </tr>\n",
       "  </thead>\n",
       "  <tbody>\n",
       "    <tr>\n",
       "      <th>0</th>\n",
       "      <td>696407278180533419</td>\n",
       "      <td>713696657481444524</td>\n",
       "      <td>2022-09-11</td>\n",
       "      <td>65337174</td>\n",
       "      <td>John</td>\n",
       "      <td>Very nice unit with a great view!</td>\n",
       "    </tr>\n",
       "    <tr>\n",
       "      <th>1</th>\n",
       "      <td>696407278180533419</td>\n",
       "      <td>739890699236423174</td>\n",
       "      <td>2022-10-17</td>\n",
       "      <td>127952984</td>\n",
       "      <td>Yuliya</td>\n",
       "      <td>place is better than on the photos. location i...</td>\n",
       "    </tr>\n",
       "    <tr>\n",
       "      <th>2</th>\n",
       "      <td>696407278180533419</td>\n",
       "      <td>753655979515222624</td>\n",
       "      <td>2022-11-05</td>\n",
       "      <td>173993584</td>\n",
       "      <td>Nicolas</td>\n",
       "      <td>Great location, amazing view, good neighbourho...</td>\n",
       "    </tr>\n",
       "    <tr>\n",
       "      <th>3</th>\n",
       "      <td>696407278180533419</td>\n",
       "      <td>758745845104067420</td>\n",
       "      <td>2022-11-12</td>\n",
       "      <td>9475139</td>\n",
       "      <td>Candice</td>\n",
       "      <td>The week-long stay was indeed everything I cou...</td>\n",
       "    </tr>\n",
       "    <tr>\n",
       "      <th>4</th>\n",
       "      <td>696407278180533419</td>\n",
       "      <td>766646766641204641</td>\n",
       "      <td>2022-11-23</td>\n",
       "      <td>31422369</td>\n",
       "      <td>Artyom</td>\n",
       "      <td>Great experience! Amazing location! Epic view!...</td>\n",
       "    </tr>\n",
       "  </tbody>\n",
       "</table>\n",
       "</div>"
      ],
      "text/plain": [
       "           listing_id                  id        date  reviewer_id  \\\n",
       "0  696407278180533419  713696657481444524  2022-09-11     65337174   \n",
       "1  696407278180533419  739890699236423174  2022-10-17    127952984   \n",
       "2  696407278180533419  753655979515222624  2022-11-05    173993584   \n",
       "3  696407278180533419  758745845104067420  2022-11-12      9475139   \n",
       "4  696407278180533419  766646766641204641  2022-11-23     31422369   \n",
       "\n",
       "  reviewer_name                                           comments  \n",
       "0          John                  Very nice unit with a great view!  \n",
       "1        Yuliya  place is better than on the photos. location i...  \n",
       "2       Nicolas  Great location, amazing view, good neighbourho...  \n",
       "3       Candice  The week-long stay was indeed everything I cou...  \n",
       "4        Artyom  Great experience! Amazing location! Epic view!...  "
      ]
     },
     "execution_count": 30,
     "metadata": {},
     "output_type": "execute_result"
    }
   ],
   "source": [
    "# Check columns\n",
    "print(\"Listings columns:\", listings.columns.tolist())\n",
    "print(\"Reviews columns:\", reviews.columns.tolist())\n",
    "\n",
    "# See first few rows\n",
    "listings.head()\n",
    "reviews.head()"
   ]
  },
  {
   "cell_type": "code",
   "execution_count": 33,
   "id": "a80efd63-0655-4a11-a3db-d91c7fc25417",
   "metadata": {},
   "outputs": [],
   "source": [
    "# Keep essential fields from listings\n",
    "listings = listings[[\n",
    "    'id', 'name', 'neighbourhood_cleansed', 'room_type', 'latitude' , 'longitude' , 'property_type' ,\n",
    "    'price', 'number_of_reviews', 'availability_365',\n",
    "    'review_scores_rating', 'host_id', 'minimum_nights'\n",
    "]]\n",
    "\n",
    "# Keep key fields from reviews\n",
    "reviews = reviews[['listing_id', 'date', 'comments']]\n"
   ]
  },
  {
   "cell_type": "code",
   "execution_count": 35,
   "id": "d19627db-e7e7-4115-97a6-61d79626f596",
   "metadata": {},
   "outputs": [],
   "source": [
    "listings['price'] = listings['price'].replace(r'[\\$,]', '', regex=True).astype(float)"
   ]
  },
  {
   "cell_type": "code",
   "execution_count": 37,
   "id": "46d72c78-f2ab-47d8-83e4-052d8b00ce32",
   "metadata": {},
   "outputs": [],
   "source": [
    "listings['id'] = listings['id'].astype(str)\n",
    "listings['host_id'] = listings['host_id'].astype(str)\n",
    "reviews['listing_id'] = reviews['listing_id'].astype(str)"
   ]
  },
  {
   "cell_type": "code",
   "execution_count": 39,
   "id": "25ed3b94-7b37-4880-8df4-2cc808d5785c",
   "metadata": {},
   "outputs": [],
   "source": [
    "# Join on listing_id = id\n",
    "merged = pd.merge(reviews, listings, left_on='listing_id', right_on='id', how='left')"
   ]
  },
  {
   "cell_type": "code",
   "execution_count": 43,
   "id": "aaa5db2f-3591-4f2f-b690-879df2ae1757",
   "metadata": {},
   "outputs": [],
   "source": [
    "merged.to_csv(\"airbnb_cleaned.csv\", index=False)"
   ]
  },
  {
   "cell_type": "code",
   "execution_count": null,
   "id": "b5179547-ea8f-40e8-9ed3-021d09f44dc5",
   "metadata": {},
   "outputs": [],
   "source": []
  }
 ],
 "metadata": {
  "kernelspec": {
   "display_name": "Python 3 (ipykernel)",
   "language": "python",
   "name": "python3"
  },
  "language_info": {
   "codemirror_mode": {
    "name": "ipython",
    "version": 3
   },
   "file_extension": ".py",
   "mimetype": "text/x-python",
   "name": "python",
   "nbconvert_exporter": "python",
   "pygments_lexer": "ipython3",
   "version": "3.13.2"
  }
 },
 "nbformat": 4,
 "nbformat_minor": 5
}
